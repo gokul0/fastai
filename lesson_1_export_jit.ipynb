{
  "nbformat": 4,
  "nbformat_minor": 0,
  "metadata": {
    "colab": {
      "name": "lesson-1-export-jit.ipynb",
      "version": "0.3.2",
      "provenance": []
    },
    "kernelspec": {
      "name": "python3",
      "display_name": "Python 3"
    },
    "accelerator": "GPU"
  },
  "cells": [
    {
      "metadata": {
        "id": "Z-HDRbfPndE2",
        "colab_type": "text"
      },
      "cell_type": "markdown",
      "source": [
        "# fast.ai lesson 1 - training on Notebook Instance and export to torch.jit model"
      ]
    },
    {
      "metadata": {
        "id": "f-1LmrJIndE6",
        "colab_type": "text"
      },
      "cell_type": "markdown",
      "source": [
        "## Overview\n",
        "This notebook shows how to use the SageMaker Python SDK to train your fast.ai model on a SageMaker notebook instance then export it as a torch.jit model to be used for inference on AWS Lambda.\n",
        "\n",
        "## Set up the environment\n",
        "\n",
        "You will need a Jupyter notebook with the `boto3` and `fastai` libraries installed. You can do this with the command `pip install boto3 fastai`\n",
        "\n",
        "This notebook was created and tested on a single ml.p3.2xlarge notebook instance. \n"
      ]
    },
    {
      "metadata": {
        "id": "CX7h7fZjndE7",
        "colab_type": "text"
      },
      "cell_type": "markdown",
      "source": [
        "## Train your model\n",
        "\n",
        "We are going to train a fast.ai model as per [Lesson 1 of the fast.ai MOOC course](https://course.fast.ai/videos/?lesson=1) locally on the SageMaker Notebook instance. We will then save the model weights and upload them to S3.\n",
        "\n"
      ]
    },
    {
      "metadata": {
        "id": "y_HAIlCrndE-",
        "colab_type": "code",
        "colab": {}
      },
      "cell_type": "code",
      "source": [
        "%reload_ext autoreload\n",
        "%autoreload 2\n",
        "%matplotlib inline"
      ],
      "execution_count": 0,
      "outputs": []
    },
    {
      "metadata": {
        "id": "rvKHwqsrndFF",
        "colab_type": "code",
        "colab": {}
      },
      "cell_type": "code",
      "source": [
        "import os\n",
        "import io\n",
        "import tarfile\n",
        "\n",
        "import PIL\n",
        "\n",
        "import boto3\n",
        "\n",
        "from fastai.vision import *"
      ],
      "execution_count": 0,
      "outputs": []
    },
    {
      "metadata": {
        "id": "hn4idsAAndFI",
        "colab_type": "code",
        "colab": {
          "base_uri": "https://localhost:8080/",
          "height": 34
        },
        "outputId": "e3da8f12-889e-4365-a982-43ebb44af7a2"
      },
      "cell_type": "code",
      "source": [
        "path = untar_data(URLs.PETS); path"
      ],
      "execution_count": 3,
      "outputs": [
        {
          "output_type": "execute_result",
          "data": {
            "text/plain": [
              "PosixPath('/root/.fastai/data/oxford-iiit-pet')"
            ]
          },
          "metadata": {
            "tags": []
          },
          "execution_count": 3
        }
      ]
    },
    {
      "metadata": {
        "id": "vSbV0KDPndFP",
        "colab_type": "code",
        "colab": {}
      },
      "cell_type": "code",
      "source": [
        "path_anno = path/'annotations'\n",
        "path_img = path/'images'\n",
        "fnames = get_image_files(path_img)\n",
        "np.random.seed(2)\n",
        "pat = re.compile(r'/([^/]+)_\\d+.jpg$')"
      ],
      "execution_count": 0,
      "outputs": []
    },
    {
      "metadata": {
        "id": "62n6ZdwzndFT",
        "colab_type": "code",
        "colab": {}
      },
      "cell_type": "code",
      "source": [
        "bs=32\n",
        "img_size=299"
      ],
      "execution_count": 0,
      "outputs": []
    },
    {
      "metadata": {
        "id": "dAH5Z4JHndFX",
        "colab_type": "code",
        "colab": {}
      },
      "cell_type": "code",
      "source": [
        "data = ImageDataBunch.from_name_re(path_img, fnames, pat, ds_tfms=get_transforms(),\n",
        "                                   size=img_size, bs=bs).normalize(imagenet_stats)"
      ],
      "execution_count": 0,
      "outputs": []
    },
    {
      "metadata": {
        "id": "3-WpW1SrndFb",
        "colab_type": "code",
        "colab": {
          "base_uri": "https://localhost:8080/",
          "height": 51
        },
        "outputId": "1b1c6e3d-b7e5-479f-a254-bb84abb94306"
      },
      "cell_type": "code",
      "source": [
        "learn = cnn_learner(data, models.resnet50, metrics=error_rate)"
      ],
      "execution_count": 7,
      "outputs": [
        {
          "output_type": "stream",
          "text": [
            "Downloading: \"https://download.pytorch.org/models/resnet50-19c8e357.pth\" to /root/.torch/models/resnet50-19c8e357.pth\n",
            "102502400it [00:01, 86697412.49it/s]\n"
          ],
          "name": "stderr"
        }
      ]
    },
    {
      "metadata": {
        "id": "kLA7jwN0ndFg",
        "colab_type": "code",
        "colab": {
          "base_uri": "https://localhost:8080/",
          "height": 296
        },
        "outputId": "a98ed4ea-722d-4e3e-fa02-5aea120d0c3a"
      },
      "cell_type": "code",
      "source": [
        "learn.lr_find()\n",
        "learn.recorder.plot()"
      ],
      "execution_count": 8,
      "outputs": [
        {
          "output_type": "display_data",
          "data": {
            "text/html": [
              ""
            ],
            "text/plain": [
              "<IPython.core.display.HTML object>"
            ]
          },
          "metadata": {
            "tags": []
          }
        },
        {
          "output_type": "stream",
          "text": [
            "LR Finder is complete, type {learner_name}.recorder.plot() to see the graph.\n"
          ],
          "name": "stdout"
        },
        {
          "output_type": "display_data",
          "data": {
            "image/png": "[encoded data removed]",
            "text/plain": [
              "<Figure size 432x288 with 1 Axes>"
            ]
          },
          "metadata": {
            "tags": []
          }
        }
      ]
    },
    {
      "metadata": {
        "id": "Tm1xntWnndFm",
        "colab_type": "code",
        "colab": {
          "base_uri": "https://localhost:8080/",
          "height": 320
        },
        "outputId": "20f75a63-2144-4362-d5ba-9f5be9b49296"
      },
      "cell_type": "code",
      "source": [
        "learn.fit_one_cycle(8)"
      ],
      "execution_count": 9,
      "outputs": [
        {
          "output_type": "display_data",
          "data": {
            "text/html": [
              "Total time: 27:08 <p><table border=\"1\" class=\"dataframe\">\n",
              "  <thead>\n",
              "    <tr style=\"text-align: left;\">\n",
              "      <th>epoch</th>\n",
              "      <th>train_loss</th>\n",
              "      <th>valid_loss</th>\n",
              "      <th>error_rate</th>\n",
              "      <th>time</th>\n",
              "    </tr>\n",
              "  </thead>\n",
              "  <tbody>\n",
              "    <tr>\n",
              "      <td>0</td>\n",
              "      <td>0.751440</td>\n",
              "      <td>0.277948</td>\n",
              "      <td>0.083897</td>\n",
              "      <td>03:28</td>\n",
              "    </tr>\n",
              "    <tr>\n",
              "      <td>1</td>\n",
              "      <td>0.414710</td>\n",
              "      <td>0.246109</td>\n",
              "      <td>0.071719</td>\n",
              "      <td>03:21</td>\n",
              "    </tr>\n",
              "    <tr>\n",
              "      <td>2</td>\n",
              "      <td>0.368802</td>\n",
              "      <td>0.212755</td>\n",
              "      <td>0.072395</td>\n",
              "      <td>03:21</td>\n",
              "    </tr>\n",
              "    <tr>\n",
              "      <td>3</td>\n",
              "      <td>0.249875</td>\n",
              "      <td>0.196351</td>\n",
              "      <td>0.058863</td>\n",
              "      <td>03:21</td>\n",
              "    </tr>\n",
              "    <tr>\n",
              "      <td>4</td>\n",
              "      <td>0.218223</td>\n",
              "      <td>0.190514</td>\n",
              "      <td>0.058187</td>\n",
              "      <td>03:22</td>\n",
              "    </tr>\n",
              "    <tr>\n",
              "      <td>5</td>\n",
              "      <td>0.153072</td>\n",
              "      <td>0.165424</td>\n",
              "      <td>0.052097</td>\n",
              "      <td>03:24</td>\n",
              "    </tr>\n",
              "    <tr>\n",
              "      <td>6</td>\n",
              "      <td>0.114698</td>\n",
              "      <td>0.161940</td>\n",
              "      <td>0.049391</td>\n",
              "      <td>03:23</td>\n",
              "    </tr>\n",
              "    <tr>\n",
              "      <td>7</td>\n",
              "      <td>0.098478</td>\n",
              "      <td>0.153679</td>\n",
              "      <td>0.048038</td>\n",
              "      <td>03:24</td>\n",
              "    </tr>\n",
              "  </tbody>\n",
              "</table>"
            ],
            "text/plain": [
              "<IPython.core.display.HTML object>"
            ]
          },
          "metadata": {
            "tags": []
          }
        }
      ]
    },
    {
      "metadata": {
        "id": "bgQnwjG5ndFq",
        "colab_type": "code",
        "colab": {
          "base_uri": "https://localhost:8080/",
          "height": 165
        },
        "outputId": "2dd2d86b-2ab0-45ef-da29-2236b88ee87c"
      },
      "cell_type": "code",
      "source": [
        "learn.unfreeze()\n",
        "learn.fit_one_cycle(3, max_lr=slice(1e-6,1e-4))"
      ],
      "execution_count": 17,
      "outputs": [
        {
          "output_type": "display_data",
          "data": {
            "text/html": [
              "Total time: 13:05 <p><table border=\"1\" class=\"dataframe\">\n",
              "  <thead>\n",
              "    <tr style=\"text-align: left;\">\n",
              "      <th>epoch</th>\n",
              "      <th>train_loss</th>\n",
              "      <th>valid_loss</th>\n",
              "      <th>error_rate</th>\n",
              "      <th>time</th>\n",
              "    </tr>\n",
              "  </thead>\n",
              "  <tbody>\n",
              "    <tr>\n",
              "      <td>0</td>\n",
              "      <td>0.069891</td>\n",
              "      <td>0.154814</td>\n",
              "      <td>0.043978</td>\n",
              "      <td>04:21</td>\n",
              "    </tr>\n",
              "    <tr>\n",
              "      <td>1</td>\n",
              "      <td>0.069340</td>\n",
              "      <td>0.148096</td>\n",
              "      <td>0.041272</td>\n",
              "      <td>04:22</td>\n",
              "    </tr>\n",
              "    <tr>\n",
              "      <td>2</td>\n",
              "      <td>0.062713</td>\n",
              "      <td>0.151986</td>\n",
              "      <td>0.042625</td>\n",
              "      <td>04:21</td>\n",
              "    </tr>\n",
              "  </tbody>\n",
              "</table>"
            ],
            "text/plain": [
              "<IPython.core.display.HTML object>"
            ]
          },
          "metadata": {
            "tags": []
          }
        }
      ]
    },
    {
      "metadata": {
        "id": "fjQ0Sg-X_VQE",
        "colab_type": "code",
        "colab": {
          "base_uri": "https://localhost:8080/",
          "height": 306
        },
        "outputId": "401692b3-c3bc-467e-8559-077eed43a447"
      },
      "cell_type": "code",
      "source": [
        "learn.data"
      ],
      "execution_count": 16,
      "outputs": [
        {
          "output_type": "execute_result",
          "data": {
            "text/plain": [
              "ImageDataBunch;\n",
              "\n",
              "Train: LabelList (5912 items)\n",
              "x: ImageList\n",
              "Image (3, 299, 299),Image (3, 299, 299),Image (3, 299, 299),Image (3, 299, 299),Image (3, 299, 299)\n",
              "y: CategoryList\n",
              "yorkshire_terrier,chihuahua,pomeranian,chihuahua,german_shorthaired\n",
              "Path: /root/.fastai/data/oxford-iiit-pet/images;\n",
              "\n",
              "Valid: LabelList (1478 items)\n",
              "x: ImageList\n",
              "Image (3, 299, 299),Image (3, 299, 299),Image (3, 299, 299),Image (3, 299, 299),Image (3, 299, 299)\n",
              "y: CategoryList\n",
              "scottish_terrier,Abyssinian,Bombay,pug,japanese_chin\n",
              "Path: /root/.fastai/data/oxford-iiit-pet/images;\n",
              "\n",
              "Test: None"
            ]
          },
          "metadata": {
            "tags": []
          },
          "execution_count": 16
        }
      ]
    },
    {
      "metadata": {
        "id": "X-M_pep2ndFu",
        "colab_type": "text"
      },
      "cell_type": "markdown",
      "source": [
        "## Export model and upload to S3"
      ]
    },
    {
      "metadata": {
        "id": "ukYNHOA2ndFv",
        "colab_type": "text"
      },
      "cell_type": "markdown",
      "source": [
        "Now that we have trained our model we need to export it, create a tarball of the artefacts and upload to S3.\n"
      ]
    },
    {
      "metadata": {
        "id": "1kHvD-RrndFw",
        "colab_type": "text"
      },
      "cell_type": "markdown",
      "source": [
        "First we need to export the class names from the data object into a text file."
      ]
    },
    {
      "metadata": {
        "id": "68oacgbUndFx",
        "colab_type": "code",
        "colab": {}
      },
      "cell_type": "code",
      "source": [
        "save_texts(path_img/'models/classes.txt', data.classes)"
      ],
      "execution_count": 0,
      "outputs": []
    },
    {
      "metadata": {
        "id": "oQmnCiCindF0",
        "colab_type": "text"
      },
      "cell_type": "markdown",
      "source": [
        "Now we need to export the model in the [PyTorch TorchScript format](https://pytorch.org/docs/stable/jit.html) so we can load into an AWS Lambda function."
      ]
    },
    {
      "metadata": {
        "id": "rgct5zLNndF1",
        "colab_type": "code",
        "colab": {}
      },
      "cell_type": "code",
      "source": [
        "trace_input = torch.ones(1,3,img_size,img_size).cuda()\n",
        "jit_model = torch.jit.trace(learn.model.float(), trace_input)\n",
        "model_file='resnet50_jit.pth'\n",
        "output_path = str(path_img/f'models/{model_file}')\n",
        "torch.jit.save(jit_model, output_path)"
      ],
      "execution_count": 0,
      "outputs": []
    },
    {
      "metadata": {
        "id": "d1bv9GAOndF4",
        "colab_type": "text"
      },
      "cell_type": "markdown",
      "source": [
        "Next step is to create a tarfile of the exported classes file and model weights."
      ]
    },
    {
      "metadata": {
        "id": "LwN8gN8bndF5",
        "colab_type": "code",
        "colab": {}
      },
      "cell_type": "code",
      "source": [
        "tar_file=path_img/'models/model.tar.gz'\n",
        "classes_file='classes.txt'"
      ],
      "execution_count": 0,
      "outputs": []
    },
    {
      "metadata": {
        "id": "lPzkFVpgndF8",
        "colab_type": "code",
        "colab": {}
      },
      "cell_type": "code",
      "source": [
        "with tarfile.open(tar_file, 'w:gz') as f:\n",
        "    f.add(path_img/f'models/{model_file}', arcname=model_file)\n",
        "    f.add(path_img/f'models/{classes_file}', arcname=classes_file)"
      ],
      "execution_count": 0,
      "outputs": []
    },
    {
      "metadata": {
        "id": "qbKMRtAjndF_",
        "colab_type": "text"
      },
      "cell_type": "markdown",
      "source": [
        "Now we need to upload the model tarball to S3."
      ]
    },
    {
      "metadata": {
        "id": "ShXz_hcJndGC",
        "colab_type": "code",
        "colab": {}
      },
      "cell_type": "code",
      "source": [
        "s3 = boto3.resource('s3')\n",
        "s3.meta.client.upload_file(str(tar_file), 'REPLACE_WITH_YOUR_BUCKET_NAME', 'fastai-models/lesson1/model.tar.gz')"
      ],
      "execution_count": 0,
      "outputs": []
    }
  ]
}